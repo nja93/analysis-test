{
 "cells": [
  {
   "cell_type": "code",
   "execution_count": 1,
   "id": "04c7c82e-c8ad-4ade-9390-5a5e89596b9d",
   "metadata": {},
   "outputs": [],
   "source": [
    "import pandas as pd"
   ]
  },
  {
   "cell_type": "code",
   "execution_count": 2,
   "id": "06c19687-fc65-4d89-8d96-9fe876da2880",
   "metadata": {},
   "outputs": [],
   "source": [
    "import seaborn as sns"
   ]
  },
  {
   "cell_type": "code",
   "execution_count": null,
   "id": "d6791f8e-1b69-404b-b574-72a272dc1823",
   "metadata": {},
   "outputs": [
    {
     "name": "stderr",
     "output_type": "stream",
     "text": [
      "/tmp/ipykernel_53193/2350612576.py:1: DtypeWarning: Columns (11) have mixed types. Specify dtype option on import or set low_memory=False.\n",
      "  df = pd.read_csv(\"TWO_CENTURIES_OF_UM_RACES.csv\")\n"
     ]
    }
   ],
   "source": [
    "df = pd.read_csv(\"TWO_CENTURIES_OF_UM_RACES.csv\")"
   ]
  },
  {
   "cell_type": "code",
   "execution_count": null,
   "id": "166c6a08-a432-41b3-bdee-02a07541f27f",
   "metadata": {},
   "outputs": [],
   "source": [
    "df.head(10)"
   ]
  },
  {
   "cell_type": "code",
   "execution_count": null,
   "id": "aa66d373-19e0-4f7b-a93c-d573798aff8f",
   "metadata": {},
   "outputs": [],
   "source": [
    "df.shape"
   ]
  },
  {
   "cell_type": "code",
   "execution_count": null,
   "id": "6a87e193-4c6d-48ca-853c-1ea548ddee57",
   "metadata": {},
   "outputs": [],
   "source": [
    "df.dtypes"
   ]
  },
  {
   "cell_type": "code",
   "execution_count": null,
   "id": "531d2b99-3cd0-4543-8fb5-6b92679fa3b8",
   "metadata": {},
   "outputs": [],
   "source": [
    "#clean data"
   ]
  },
  {
   "cell_type": "code",
   "execution_count": null,
   "id": "8fbfafc5-8e66-4faa-8413-bd6808c306c3",
   "metadata": {},
   "outputs": [],
   "source": [
    "#Only USA races, 50k, 50 miles, 2020"
   ]
  },
  {
   "cell_type": "code",
   "execution_count": null,
   "id": "b06499ce-5bc9-40ed-aa91-079ec3ec4d2e",
   "metadata": {},
   "outputs": [],
   "source": [
    "#step 1 show 50 Mi or 50k\n",
    "#50km\n",
    "#50mi"
   ]
  },
  {
   "cell_type": "code",
   "execution_count": null,
   "id": "1d725915-fd22-4028-aeb7-31d7e4f745a8",
   "metadata": {},
   "outputs": [],
   "source": [
    "df[df['Event distance/length'] == '50mi']"
   ]
  },
  {
   "cell_type": "code",
   "execution_count": null,
   "id": "5c084e94-2ae4-41ba-a0f4-46fc32d25681",
   "metadata": {},
   "outputs": [],
   "source": [
    "#combine 50k/50Mi with isin"
   ]
  },
  {
   "cell_type": "code",
   "execution_count": null,
   "id": "5e55057b-6091-4215-9ee6-397560069f1e",
   "metadata": {},
   "outputs": [],
   "source": [
    "df[df['Event distance/length'].isin(['50km','50mi'])]"
   ]
  },
  {
   "cell_type": "code",
   "execution_count": null,
   "id": "da3c3aef-e365-4fc7-98b2-07400f4af658",
   "metadata": {},
   "outputs": [],
   "source": [
    "df[(df['Event distance/length'].isin(['50km','50mi'])) & (df['Year of event'] == 2020)] ChatGPT can make mistakes. Check important info.\n"
   ]
  },
  {
   "cell_type": "code",
   "execution_count": null,
   "id": "3fd85efe-43a9-43e0-bb30-239b8c98e580",
   "metadata": {},
   "outputs": [],
   "source": []
  },
  {
   "cell_type": "code",
   "execution_count": null,
   "id": "a61e1272-63eb-40be-aacd-34810ee025e1",
   "metadata": {},
   "outputs": [],
   "source": [
    "#df[df['Event name'].str.split('(').str.get(1).str.split(')').str.get(0)== 'USA']"
   ]
  },
  {
   "cell_type": "code",
   "execution_count": null,
   "id": "83ce4c0c-a172-416f-8d41-6ef12c55b8fb",
   "metadata": {},
   "outputs": [],
   "source": [
    "df['Event name'].str.split('(')"
   ]
  },
  {
   "cell_type": "code",
   "execution_count": null,
   "id": "27be823b-6f8b-4266-aa52-f60749fb21eb",
   "metadata": {},
   "outputs": [],
   "source": []
  },
  {
   "cell_type": "code",
   "execution_count": null,
   "id": "e3ffe91b-95de-467c-bf91-d4be774bb374",
   "metadata": {},
   "outputs": [],
   "source": []
  },
  {
   "cell_type": "code",
   "execution_count": null,
   "id": "bc40c8d1-9b36-49b1-9bad-a3ac15be358a",
   "metadata": {},
   "outputs": [],
   "source": []
  },
  {
   "cell_type": "code",
   "execution_count": null,
   "id": "dc100a99-3616-4eed-afc2-628bcfc15836",
   "metadata": {},
   "outputs": [],
   "source": []
  },
  {
   "cell_type": "code",
   "execution_count": null,
   "id": "29ee2508-bf23-4ea3-88b9-ce6a4d102b9e",
   "metadata": {},
   "outputs": [],
   "source": []
  },
  {
   "cell_type": "code",
   "execution_count": null,
   "id": "3309b03d-8dd6-4c09-b5b2-54c4ba169b09",
   "metadata": {},
   "outputs": [],
   "source": []
  },
  {
   "cell_type": "code",
   "execution_count": null,
   "id": "5298054d-9c30-4bcb-91e9-29eb1273b446",
   "metadata": {},
   "outputs": [],
   "source": []
  },
  {
   "cell_type": "code",
   "execution_count": null,
   "id": "168c0ddd-0e36-4032-9087-f6de4a201c07",
   "metadata": {},
   "outputs": [],
   "source": []
  },
  {
   "cell_type": "code",
   "execution_count": null,
   "id": "2568dd8a-9206-48f9-9214-0264288401d3",
   "metadata": {},
   "outputs": [],
   "source": []
  },
  {
   "cell_type": "code",
   "execution_count": null,
   "id": "313a39bc-a6df-46a3-b5b0-71edb80a14df",
   "metadata": {},
   "outputs": [],
   "source": []
  },
  {
   "cell_type": "code",
   "execution_count": null,
   "id": "984c5f23-52a5-4b13-b822-2367b06db1bf",
   "metadata": {},
   "outputs": [],
   "source": []
  },
  {
   "cell_type": "code",
   "execution_count": null,
   "id": "43341f63-8de4-46b7-9c31-4a114477be5f",
   "metadata": {},
   "outputs": [],
   "source": []
  },
  {
   "cell_type": "code",
   "execution_count": null,
   "id": "aa71c12b-0b81-43b0-a581-0299fb76c6aa",
   "metadata": {},
   "outputs": [],
   "source": []
  },
  {
   "cell_type": "code",
   "execution_count": null,
   "id": "26758767-f150-4ab3-bbd7-e3cbf523f489",
   "metadata": {},
   "outputs": [],
   "source": []
  },
  {
   "cell_type": "code",
   "execution_count": null,
   "id": "e72d7934-d664-44f2-9513-948a6ef15d5f",
   "metadata": {},
   "outputs": [],
   "source": []
  },
  {
   "cell_type": "code",
   "execution_count": null,
   "id": "e0dcaf88-bf14-4611-93a9-f65dcce08562",
   "metadata": {},
   "outputs": [],
   "source": []
  },
  {
   "cell_type": "code",
   "execution_count": null,
   "id": "f029257b-1ff3-4c3d-927a-7e0734ecd974",
   "metadata": {},
   "outputs": [],
   "source": []
  },
  {
   "cell_type": "code",
   "execution_count": null,
   "id": "cf613ad1-bd95-404d-8e16-26c9c3514b51",
   "metadata": {},
   "outputs": [],
   "source": []
  },
  {
   "cell_type": "code",
   "execution_count": null,
   "id": "83dd7ef0-9775-439c-9124-e3bd0aca2bc9",
   "metadata": {},
   "outputs": [],
   "source": []
  },
  {
   "cell_type": "code",
   "execution_count": null,
   "id": "b5be2fd2-4c4c-4991-8c3f-b6111d188b8f",
   "metadata": {},
   "outputs": [],
   "source": []
  },
  {
   "cell_type": "code",
   "execution_count": null,
   "id": "35f231c5-b541-42f4-b23a-2d7deb4f107c",
   "metadata": {},
   "outputs": [],
   "source": []
  },
  {
   "cell_type": "code",
   "execution_count": null,
   "id": "0f848c82-0282-4a33-91c3-8ee7a8246af2",
   "metadata": {},
   "outputs": [],
   "source": []
  },
  {
   "cell_type": "code",
   "execution_count": null,
   "id": "143c4632-3038-41b5-9714-b549d561ef4d",
   "metadata": {},
   "outputs": [],
   "source": []
  }
 ],
 "metadata": {
  "kernelspec": {
   "display_name": "Python 3 (ipykernel)",
   "language": "python",
   "name": "python3"
  },
  "language_info": {
   "codemirror_mode": {
    "name": "ipython",
    "version": 3
   },
   "file_extension": ".py",
   "mimetype": "text/x-python",
   "name": "python",
   "nbconvert_exporter": "python",
   "pygments_lexer": "ipython3",
   "version": "3.10.12"
  }
 },
 "nbformat": 4,
 "nbformat_minor": 5
}
